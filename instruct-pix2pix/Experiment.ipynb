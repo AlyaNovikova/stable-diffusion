{
 "cells": [
  {
   "cell_type": "code",
   "execution_count": 1,
   "id": "7a7a64fc-eaa2-40d6-8333-9ee30aaf2650",
   "metadata": {},
   "outputs": [],
   "source": [
    "from PIL import Image\n",
    "import os"
   ]
  },
  {
   "cell_type": "code",
   "execution_count": 2,
   "id": "42a831fa-7372-4b24-ab4a-82a2348b4bf3",
   "metadata": {},
   "outputs": [],
   "source": [
    "# def convert_png_to_jpg(png_file, jpg_file):\n",
    "#     png_image = Image.open(png_file)\n",
    "#     png_image.convert('RGB').save(jpg_file, 'JPEG')\n",
    "\n",
    "# folder_path = \"../test_images\"\n",
    "# prompts_file = \"../test_images/editing\"\n",
    "# n_imgs = 10\n",
    "\n",
    "# images = []\n",
    "# prompts = []\n",
    "\n",
    "# for i in range(n_imgs + 1):\n",
    "#     image_path = os.path.join(folder_path, f\"{i}.png\")\n",
    "#     convert_png_to_jpg(image_path, image_path[:-3] + 'jpg')"
   ]
  },
  {
   "cell_type": "code",
   "execution_count": 3,
   "id": "5c97a122-0932-4c8b-86d0-fa516b55a0cc",
   "metadata": {},
   "outputs": [],
   "source": [
    "# import torch\n",
    "# from diffusers import StableDiffusionInstructPix2PixPipeline, EulerAncestralDiscreteScheduler\n",
    "\n",
    "# model_id = \"timbrooks/instruct-pix2pix\"\n",
    "# pipe = StableDiffusionInstructPix2PixPipeline.from_pretrained(model_id, torch_dtype=torch.float16, safety_checker=None)\n",
    "# pipe.to(\"cuda\")\n",
    "# pipe.scheduler = EulerAncestralDiscreteScheduler.from_config(pipe.scheduler.config)\n",
    "# # `image` is an RGB PIL.Image\n",
    "# images = pipe(\"light up tower\", image=existing_image).images\n",
    "# images[0]"
   ]
  },
  {
   "cell_type": "code",
   "execution_count": 4,
   "id": "6bc2fe3d-db86-4bc4-b719-7e71d67f30bc",
   "metadata": {},
   "outputs": [],
   "source": [
    "# images = pipe(\"turn him into cat\", image=existing_image).images\n",
    "# images[0]"
   ]
  },
  {
   "cell_type": "code",
   "execution_count": 5,
   "id": "033a4b2b-1279-48df-8bbd-2a42b8c7ce56",
   "metadata": {},
   "outputs": [],
   "source": [
    "def read_prompt(file_path, index):\n",
    "    # Read the prompt corresponding to the given index from the file\n",
    "    with open(file_path, 'r') as file:\n",
    "        lines = file.readlines()\n",
    "        if index < len(lines):\n",
    "            return lines[index].strip()\n",
    "        else:\n",
    "            return \"No prompt available\""
   ]
  },
  {
   "cell_type": "code",
   "execution_count": 6,
   "id": "569116fe-0b63-4874-89fb-6e84498ce114",
   "metadata": {},
   "outputs": [
    {
     "data": {
      "application/vnd.jupyter.widget-view+json": {
       "model_id": "ffe2318f646840ad84c7fea897e3f123",
       "version_major": 2,
       "version_minor": 0
      },
      "text/plain": [
       "Loading pipeline components...:   0%|          | 0/6 [00:00<?, ?it/s]"
      ]
     },
     "metadata": {},
     "output_type": "display_data"
    },
    {
     "name": "stdout",
     "output_type": "stream",
     "text": [
      "A tiger sitting next to a mirror\n"
     ]
    },
    {
     "data": {
      "application/vnd.jupyter.widget-view+json": {
       "model_id": "5750cb3c1cb9442b842fa75455d9a8a7",
       "version_major": 2,
       "version_minor": 0
      },
      "text/plain": [
       "  0%|          | 0/100 [00:00<?, ?it/s]"
      ]
     },
     "metadata": {},
     "output_type": "display_data"
    },
    {
     "name": "stdout",
     "output_type": "stream",
     "text": [
      "white dog\n"
     ]
    },
    {
     "data": {
      "application/vnd.jupyter.widget-view+json": {
       "model_id": "1caa6273396b4a48bfc6c8769dcf668c",
       "version_major": 2,
       "version_minor": 0
      },
      "text/plain": [
       "  0%|          | 0/100 [00:00<?, ?it/s]"
      ]
     },
     "metadata": {},
     "output_type": "display_data"
    },
    {
     "name": "stdout",
     "output_type": "stream",
     "text": [
      "Red car\n"
     ]
    },
    {
     "data": {
      "application/vnd.jupyter.widget-view+json": {
       "model_id": "807448dfdca5466c90fe5dc76ac7ab61",
       "version_major": 2,
       "version_minor": 0
      },
      "text/plain": [
       "  0%|          | 0/100 [00:00<?, ?it/s]"
      ]
     },
     "metadata": {},
     "output_type": "display_data"
    },
    {
     "name": "stdout",
     "output_type": "stream",
     "text": [
      "Add peaceful beach background\n"
     ]
    },
    {
     "data": {
      "application/vnd.jupyter.widget-view+json": {
       "model_id": "ff284253093e41a5992741818daa4129",
       "version_major": 2,
       "version_minor": 0
      },
      "text/plain": [
       "  0%|          | 0/100 [00:00<?, ?it/s]"
      ]
     },
     "metadata": {},
     "output_type": "display_data"
    },
    {
     "name": "stdout",
     "output_type": "stream",
     "text": [
      "Lion\n"
     ]
    },
    {
     "data": {
      "application/vnd.jupyter.widget-view+json": {
       "model_id": "6d4ad0a1355148da8107db250b939e5a",
       "version_major": 2,
       "version_minor": 0
      },
      "text/plain": [
       "  0%|          | 0/100 [00:00<?, ?it/s]"
      ]
     },
     "metadata": {},
     "output_type": "display_data"
    },
    {
     "name": "stdout",
     "output_type": "stream",
     "text": [
      "origami of roses in a vase\n"
     ]
    },
    {
     "data": {
      "application/vnd.jupyter.widget-view+json": {
       "model_id": "7e96201f86884598aa281e9672748bac",
       "version_major": 2,
       "version_minor": 0
      },
      "text/plain": [
       "  0%|          | 0/100 [00:00<?, ?it/s]"
      ]
     },
     "metadata": {},
     "output_type": "display_data"
    },
    {
     "name": "stdout",
     "output_type": "stream",
     "text": [
      "light up tower\n"
     ]
    },
    {
     "data": {
      "application/vnd.jupyter.widget-view+json": {
       "model_id": "b312f3e7415e4030a044e2126fbd3394",
       "version_major": 2,
       "version_minor": 0
      },
      "text/plain": [
       "  0%|          | 0/100 [00:00<?, ?it/s]"
      ]
     },
     "metadata": {},
     "output_type": "display_data"
    },
    {
     "name": "stdout",
     "output_type": "stream",
     "text": [
      "Make it sunset\n"
     ]
    },
    {
     "data": {
      "application/vnd.jupyter.widget-view+json": {
       "model_id": "c624a78003694640ae67a55020909458",
       "version_major": 2,
       "version_minor": 0
      },
      "text/plain": [
       "  0%|          | 0/100 [00:00<?, ?it/s]"
      ]
     },
     "metadata": {},
     "output_type": "display_data"
    },
    {
     "name": "stdout",
     "output_type": "stream",
     "text": [
      "change the forest to the mountains\n"
     ]
    },
    {
     "data": {
      "application/vnd.jupyter.widget-view+json": {
       "model_id": "1ec61f2c5f0a4f0d93f69bda96c7368f",
       "version_major": 2,
       "version_minor": 0
      },
      "text/plain": [
       "  0%|          | 0/100 [00:00<?, ?it/s]"
      ]
     },
     "metadata": {},
     "output_type": "display_data"
    },
    {
     "name": "stdout",
     "output_type": "stream",
     "text": [
      "Anime style\n"
     ]
    },
    {
     "data": {
      "application/vnd.jupyter.widget-view+json": {
       "model_id": "bef674de028c4befa479f0c59eecb5c7",
       "version_major": 2,
       "version_minor": 0
      },
      "text/plain": [
       "  0%|          | 0/100 [00:00<?, ?it/s]"
      ]
     },
     "metadata": {},
     "output_type": "display_data"
    },
    {
     "name": "stdout",
     "output_type": "stream",
     "text": [
      "Chihuahua on a toy tricycle\n"
     ]
    },
    {
     "data": {
      "application/vnd.jupyter.widget-view+json": {
       "model_id": "4e5c6b4504584a5fa6526a5db57eb077",
       "version_major": 2,
       "version_minor": 0
      },
      "text/plain": [
       "  0%|          | 0/100 [00:00<?, ?it/s]"
      ]
     },
     "metadata": {},
     "output_type": "display_data"
    }
   ],
   "source": [
    "import torch\n",
    "from diffusers import StableDiffusionInstructPix2PixPipeline, EulerAncestralDiscreteScheduler\n",
    "\n",
    "model_id = \"timbrooks/instruct-pix2pix\"\n",
    "pipe = StableDiffusionInstructPix2PixPipeline.from_pretrained(model_id, torch_dtype=torch.float16, safety_checker=None)\n",
    "pipe.to(\"cuda\")\n",
    "pipe.scheduler = EulerAncestralDiscreteScheduler.from_config(pipe.scheduler.config)\n",
    "\n",
    "\n",
    "folder_path = \"../test_images\"\n",
    "prompts_file = \"../test_images/editing\"\n",
    "n_imgs = 11\n",
    "\n",
    "images = []\n",
    "prompts = []\n",
    "\n",
    "for i in range(n_imgs):\n",
    "    image_path = os.path.join(folder_path, f\"{i}.jpg\")\n",
    "    existing_image = Image.open(image_path)\n",
    "    prompt = read_prompt(prompts_file, i)\n",
    "    print(prompt)\n",
    "    image = pipe(prompt, image=existing_image).images\n",
    "    images.append(image[0])"
   ]
  },
  {
   "cell_type": "code",
   "execution_count": 7,
   "id": "be7b6d74-d5c1-4f06-8f1a-94adef6f9fab",
   "metadata": {},
   "outputs": [],
   "source": [
    "def save_images_to_folder(images, folder_path):\n",
    "    if not os.path.exists(folder_path):\n",
    "        os.makedirs(folder_path)\n",
    "\n",
    "    for i, img in enumerate(images):\n",
    "        img_path = os.path.join(folder_path, f\"image_{i}.jpg\")\n",
    "        img.save(img_path)\n",
    "        print(f\"Image {i} saved as {img_path}\")"
   ]
  },
  {
   "cell_type": "code",
   "execution_count": 8,
   "id": "ac074a14-bbdc-4d5e-b9eb-a9c055670c11",
   "metadata": {},
   "outputs": [
    {
     "name": "stdout",
     "output_type": "stream",
     "text": [
      "Image 0 saved as results/image_0.jpg\n",
      "Image 1 saved as results/image_1.jpg\n",
      "Image 2 saved as results/image_2.jpg\n",
      "Image 3 saved as results/image_3.jpg\n",
      "Image 4 saved as results/image_4.jpg\n",
      "Image 5 saved as results/image_5.jpg\n",
      "Image 6 saved as results/image_6.jpg\n",
      "Image 7 saved as results/image_7.jpg\n",
      "Image 8 saved as results/image_8.jpg\n",
      "Image 9 saved as results/image_9.jpg\n",
      "Image 10 saved as results/image_10.jpg\n"
     ]
    }
   ],
   "source": [
    "save_images_to_folder(images, \"results\")"
   ]
  }
 ],
 "metadata": {
  "kernelspec": {
   "display_name": "Python 3 (ipykernel)",
   "language": "python",
   "name": "python3"
  },
  "language_info": {
   "codemirror_mode": {
    "name": "ipython",
    "version": 3
   },
   "file_extension": ".py",
   "mimetype": "text/x-python",
   "name": "python",
   "nbconvert_exporter": "python",
   "pygments_lexer": "ipython3",
   "version": "3.10.4"
  }
 },
 "nbformat": 4,
 "nbformat_minor": 5
}
