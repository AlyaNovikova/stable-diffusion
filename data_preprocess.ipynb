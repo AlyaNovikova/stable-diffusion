{
 "cells": [
  {
   "cell_type": "code",
   "execution_count": 1,
   "id": "65efe8b5-d3ea-470d-8b30-092a1ac55ceb",
   "metadata": {},
   "outputs": [
    {
     "name": "stdout",
     "output_type": "stream",
     "text": [
      "Error converting fashion_dataset/skirt1.avif: cannot identify image file 'fashion_dataset/skirt1.avif'\n",
      "Error converting fashion_dataset/dress1.avif: cannot identify image file 'fashion_dataset/dress1.avif'\n",
      "Error converting fashion_dataset/shirts1.avif: cannot identify image file 'fashion_dataset/shirts1.avif'\n",
      "Error converting fashion_dataset/shirts2_p.avif: cannot identify image file 'fashion_dataset/shirts2_p.avif'\n",
      "Error converting fashion_dataset/pants3.avif: cannot identify image file 'fashion_dataset/pants3.avif'\n",
      "Error converting fashion_dataset/skirt4.avif: cannot identify image file 'fashion_dataset/skirt4.avif'\n",
      "Error converting fashion_dataset/shirts3.avif: cannot identify image file 'fashion_dataset/shirts3.avif'\n",
      "Error converting fashion_dataset/skirt2.avif: cannot identify image file 'fashion_dataset/skirt2.avif'\n",
      "Error converting fashion_dataset/skirt1_p.avif: cannot identify image file 'fashion_dataset/skirt1_p.avif'\n",
      "Error converting fashion_dataset/pants1_p.avif: cannot identify image file 'fashion_dataset/pants1_p.avif'\n",
      "Error converting fashion_dataset/pants3_p.avif: cannot identify image file 'fashion_dataset/pants3_p.avif'\n",
      "Error converting fashion_dataset/shirts2.avif: cannot identify image file 'fashion_dataset/shirts2.avif'\n",
      "Error converting fashion_dataset/dress2_p.avif: cannot identify image file 'fashion_dataset/dress2_p.avif'\n",
      "Error converting fashion_dataset/pants1.avif: cannot identify image file 'fashion_dataset/pants1.avif'\n",
      "Error converting fashion_dataset/shirts1_p.avif: cannot identify image file 'fashion_dataset/shirts1_p.avif'\n",
      "Error converting fashion_dataset/skirt3_p.avif: cannot identify image file 'fashion_dataset/skirt3_p.avif'\n",
      "Error converting fashion_dataset/shirts3_p.avif: cannot identify image file 'fashion_dataset/shirts3_p.avif'\n",
      "Error converting fashion_dataset/pants2_p.avif: cannot identify image file 'fashion_dataset/pants2_p.avif'\n",
      "Error converting fashion_dataset/dress3.avif: cannot identify image file 'fashion_dataset/dress3.avif'\n",
      "Error converting fashion_dataset/skirt5.avif: cannot identify image file 'fashion_dataset/skirt5.avif'\n",
      "Error converting fashion_dataset/pants2.avif: cannot identify image file 'fashion_dataset/pants2.avif'\n",
      "Error converting fashion_dataset/dress3_p.avif: cannot identify image file 'fashion_dataset/dress3_p.avif'\n",
      "Error converting fashion_dataset/dress2.avif: cannot identify image file 'fashion_dataset/dress2.avif'\n",
      "Error converting fashion_dataset/skirt3.avif: cannot identify image file 'fashion_dataset/skirt3.avif'\n",
      "Error converting fashion_dataset/dress1_p.avif: cannot identify image file 'fashion_dataset/dress1_p.avif'\n",
      "Error converting fashion_dataset/skirt5_p.avif: cannot identify image file 'fashion_dataset/skirt5_p.avif'\n",
      "Error converting fashion_dataset/skirt4_p.avif: cannot identify image file 'fashion_dataset/skirt4_p.avif'\n",
      "Error converting fashion_dataset/skirt2_p.avif: cannot identify image file 'fashion_dataset/skirt2_p.avif'\n"
     ]
    }
   ],
   "source": [
    "from PIL import Image\n",
    "import os\n",
    "\n",
    "def convert_avif_to_png(input_path, output_path):\n",
    "    try:\n",
    "        # Open the AVIF image\n",
    "        with Image.open(input_path) as img:\n",
    "            # Convert AVIF to PNG\n",
    "            img.save(output_path, format=\"PNG\")\n",
    "            print(f\"Converted {input_path} to {output_path}\")\n",
    "    except Exception as e:\n",
    "        print(f\"Error converting {input_path}:\", e)\n",
    "\n",
    "def batch_convert_avif_to_png(input_folder, output_folder):\n",
    "    # Create output folder if it doesn't exist\n",
    "    if not os.path.exists(output_folder):\n",
    "        os.makedirs(output_folder)\n",
    "\n",
    "    # Loop through all files in the input folder\n",
    "    for filename in os.listdir(input_folder):\n",
    "        if filename.endswith(\".avif\"):\n",
    "            input_path = os.path.join(input_folder, filename)\n",
    "            output_path = os.path.join(output_folder, filename[:-5] + \".png\")  # Change extension to PNG\n",
    "            convert_avif_to_png(input_path, output_path)\n",
    "\n",
    "# Example usage:\n",
    "input_folder = \"fashion_dataset\"\n",
    "output_folder = \"fashion_dataset_png\"\n",
    "batch_convert_avif_to_png(input_folder, output_folder)\n"
   ]
  }
 ],
 "metadata": {
  "kernelspec": {
   "display_name": "Python 3 (ipykernel)",
   "language": "python",
   "name": "python3"
  },
  "language_info": {
   "codemirror_mode": {
    "name": "ipython",
    "version": 3
   },
   "file_extension": ".py",
   "mimetype": "text/x-python",
   "name": "python",
   "nbconvert_exporter": "python",
   "pygments_lexer": "ipython3",
   "version": "3.10.4"
  }
 },
 "nbformat": 4,
 "nbformat_minor": 5
}
