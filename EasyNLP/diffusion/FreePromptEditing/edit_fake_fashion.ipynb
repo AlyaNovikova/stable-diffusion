{
 "cells": [
  {
   "cell_type": "code",
   "execution_count": 1,
   "metadata": {},
   "outputs": [],
   "source": [
    "import os \n",
    "import torch\n",
    "import torch.nn as nn\n",
    "import torch.nn.functional as F\n",
    "from typing import Optional\n",
    "import random\n",
    "from diffusers import DDIMScheduler\n",
    "import numpy as np\n",
    "from Freeprompt.diffuser_utils import FreePromptPipeline\n",
    "from Freeprompt.freeprompt_utils import register_attention_control_new\n",
    "from torchvision.utils import save_image\n",
    "from torchvision.io import read_image\n",
    "from Freeprompt.freeprompt import SelfAttentionControlEdit,AttentionStore\n"
   ]
  },
  {
   "cell_type": "markdown",
   "metadata": {},
   "source": [
    "#### Model Construction"
   ]
  },
  {
   "cell_type": "code",
   "execution_count": 2,
   "metadata": {},
   "outputs": [
    {
     "data": {
      "application/vnd.jupyter.widget-view+json": {
       "model_id": "ceabc55b6349419daa768ddcc1a78f45",
       "version_major": 2,
       "version_minor": 0
      },
      "text/plain": [
       "Fetching 15 files:   0%|          | 0/15 [00:00<?, ?it/s]"
      ]
     },
     "metadata": {},
     "output_type": "display_data"
    },
    {
     "name": "stderr",
     "output_type": "stream",
     "text": [
      "/home/novikova/opt/izar1/cross/lib/python3.10/site-packages/diffusers/pipelines/stable_diffusion/pipeline_stable_diffusion.py:106: FutureWarning: The configuration file of this scheduler: DDIMScheduler {\n",
      "  \"_class_name\": \"DDIMScheduler\",\n",
      "  \"_diffusers_version\": \"0.14.0\",\n",
      "  \"beta_end\": 0.012,\n",
      "  \"beta_schedule\": \"scaled_linear\",\n",
      "  \"beta_start\": 0.00085,\n",
      "  \"clip_sample\": false,\n",
      "  \"num_train_timesteps\": 1000,\n",
      "  \"prediction_type\": \"epsilon\",\n",
      "  \"set_alpha_to_one\": false,\n",
      "  \"steps_offset\": 0,\n",
      "  \"trained_betas\": null\n",
      "}\n",
      " is outdated. `steps_offset` should be set to 1 instead of 0. Please make sure to update the config accordingly as leaving `steps_offset` might led to incorrect results in future versions. If you have downloaded this checkpoint from the Hugging Face Hub, it would be very nice if you could open a Pull request for the `scheduler/scheduler_config.json` file\n",
      "  deprecate(\"steps_offset!=1\", \"1.0.0\", deprecation_message, standard_warn=False)\n"
     ]
    }
   ],
   "source": [
    "# Note that you may add your Hugging Face token to get access to the models\n",
    "device = torch.device(\"cuda\") if torch.cuda.is_available() else torch.device(\"cpu\")\n",
    "model_path = \"runwayml/stable-diffusion-v1-5\"\n",
    "\n",
    "scheduler = DDIMScheduler(beta_start=0.00085, beta_end=0.012, beta_schedule=\"scaled_linear\", clip_sample=False, set_alpha_to_one=False)\n",
    "pipe = FreePromptPipeline.from_pretrained(model_path, scheduler=scheduler).to(device)"
   ]
  },
  {
   "cell_type": "code",
   "execution_count": 6,
   "metadata": {},
   "outputs": [],
   "source": [
    "prompts_all = [\n",
    "\n",
    "    #     [\"Photo of a black leather skirt on a light background\",\n",
    "    # \"Photo of a red leather skirt on a light background\"],\n",
    "    \n",
    "    # [\"Image of sleek navy blue denim jeans on a wooden surface\",\n",
    "    # \"Image of sleek navy blue silk jeans on a wooden surface\"],\n",
    "    \n",
    "    # [\"Photo of an elegant silk evening gown in deep burgundy, draped on a hanger\",\n",
    "    # \"Photo of an elegant silk evening gown in deep green, draped on a hanger\"],\n",
    "    \n",
    "    # [\"Snapshot of a floral sundress in sunlight\",\n",
    "    # \"Snapshot of a striped sundress in sunlight\"],\n",
    "    \n",
    "    # [\"Photo of a pink cotton t-shirt on grass\",\n",
    "    # \"Photo of a black cotton t-shirt on grass\"],\n",
    "\n",
    "    # [\"Photo of a yellow cotton dress on white table\",\n",
    "    # \"Photo of a pink cotton dress on white table\"],\n",
    "    \n",
    "    # [\"Photo of a white linen button-up shirt on grass\",\n",
    "    # \"Photo of a blue linen button-up shirt on grass\"],\n",
    "    \n",
    "    [\"Photo of a pleated midi skirt in pastel pink on white table\",\n",
    "    \"Photo of a tight mini skirt in pastel pink on white table\"],\n",
    "    \n",
    "    # [\"Photo of a red cotton midi skirt on grass\",\n",
    "    # \"Photo of a green cotton midi skirt on grass\"],\n",
    "    \n",
    "    # [\"Snapshot of classic black denim jeans on a wooden surface\",\n",
    "    # \"Snapshot of classic blue denim jeans on a wooden surface\"]\n",
    "]"
   ]
  },
  {
   "cell_type": "markdown",
   "metadata": {},
   "source": [
    "#### Fake image editing"
   ]
  },
  {
   "cell_type": "code",
   "execution_count": 7,
   "metadata": {},
   "outputs": [
    {
     "name": "stderr",
     "output_type": "stream",
     "text": [
      "DDIM Sampler: 100%|█████████████████████████████████████████████████████████████████████████████████████████████████████████████████████████████████████████████████████████| 50/50 [00:21<00:00,  2.33it/s]\n"
     ]
    }
   ],
   "source": [
    "\n",
    "# Note that you may add your Hugging Face token to get access to the models\n",
    "device = torch.device(\"cuda\") if torch.cuda.is_available() else torch.device(\"cpu\")\n",
    "\n",
    "def seed_everything(seed: Optional[int] = None, workers: bool = False) -> int:\n",
    "\n",
    "    if seed is None:\n",
    "        seed = os.environ.get(\"PL_GLOBAL_SEED\")\n",
    "    seed = int(seed)\n",
    "\n",
    "    os.environ[\"PL_GLOBAL_SEED\"] = str(seed)\n",
    "    random.seed(seed)\n",
    "    np.random.seed(seed)\n",
    "    torch.manual_seed(seed)\n",
    "    torch.cuda.manual_seed_all(seed)\n",
    "\n",
    "    os.environ[\"PL_SEED_WORKERS\"] = f\"{int(workers)}\"\n",
    "\n",
    "    return seed\n",
    "\n",
    "seed = 42\n",
    "seed_everything(seed)\n",
    "\n",
    "self_replace_steps = .8\n",
    "NUM_DIFFUSION_STEPS = 50\n",
    "\n",
    "out_dir = \"examples/outputs\"\n",
    "\n",
    "\n",
    "for prompts in prompts_all:\n",
    "\n",
    "    source_prompt = prompts[0]\n",
    "    target_prompt = prompts[1]\n",
    "    \n",
    "    start_code = torch.randn([1, 4, 64, 64], device=device)\n",
    "    start_code = start_code.expand(2, -1, -1, -1)\n",
    "    \n",
    "    latents = torch.randn(start_code.shape, device=device)\n",
    "    prompts = [source_prompt, target_prompt]\n",
    "    \n",
    "    start_code = start_code.expand(len(prompts), -1, -1, -1)\n",
    "    controller = SelfAttentionControlEdit(prompts, NUM_DIFFUSION_STEPS, self_replace_steps=self_replace_steps)\n",
    "    \n",
    "    register_attention_control_new(pipe, controller)\n",
    "    \n",
    "    results = pipe(prompts,\n",
    "                        latents=start_code,\n",
    "                        guidance_scale=7.5,\n",
    "                        )\n",
    "    \n",
    "    save_image(results[0], os.path.join(out_dir, str(source_prompt)+'.jpg'))\n",
    "    save_image(results[1], os.path.join(out_dir, str(target_prompt)+'.jpg'))\n"
   ]
  }
 ],
 "metadata": {
  "kernelspec": {
   "display_name": "Python 3 (ipykernel)",
   "language": "python",
   "name": "python3"
  },
  "language_info": {
   "codemirror_mode": {
    "name": "ipython",
    "version": 3
   },
   "file_extension": ".py",
   "mimetype": "text/x-python",
   "name": "python",
   "nbconvert_exporter": "python",
   "pygments_lexer": "ipython3",
   "version": "3.10.4"
  },
  "vscode": {
   "interpreter": {
    "hash": "587aa04bacead72c1ffd459abbe4c8140b72ba2b534b24165b36a2ede3d95042"
   }
  }
 },
 "nbformat": 4,
 "nbformat_minor": 4
}
